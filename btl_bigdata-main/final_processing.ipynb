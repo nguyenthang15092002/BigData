{
 "cells": [
  {
   "cell_type": "code",
   "execution_count": 1,
   "metadata": {},
   "outputs": [],
   "source": [
    "import pandas as pd\n",
    "import numpy as np\n",
    "from pyspark.ml.feature import Word2Vec, Word2VecModel\n",
    "from pyspark.ml.classification import (\n",
    "    LogisticRegression,\n",
    "    MultilayerPerceptronClassifier,\n",
    "    LogisticRegressionModel,\n",
    "    MultilayerPerceptronClassificationModel,\n",
    ")\n",
    "from pyspark.ml.evaluation import MulticlassClassificationEvaluator\n",
    "import pyspark.sql.functions as F\n",
    "import pyspark.sql.types as T\n",
    "\n",
    "from pyspark.ml import Pipeline\n",
    "from pyspark.sql import SparkSession\n",
    "from pyspark.sql.types import StringType, IntegerType\n",
    "import random\n",
    "\n",
    "spark = SparkSession.builder.getOrCreate()\n",
    "# ps.set_option(\"plotting.backend\", \"matplotlib\")"
   ]
  },
  {
   "cell_type": "code",
   "execution_count": 2,
   "metadata": {},
   "outputs": [
    {
     "name": "stdout",
     "output_type": "stream",
     "text": [
      "Success\n"
     ]
    },
    {
     "data": {
      "text/html": [
       "<div>\n",
       "<style scoped>\n",
       "    .dataframe tbody tr th:only-of-type {\n",
       "        vertical-align: middle;\n",
       "    }\n",
       "\n",
       "    .dataframe tbody tr th {\n",
       "        vertical-align: top;\n",
       "    }\n",
       "\n",
       "    .dataframe thead th {\n",
       "        text-align: right;\n",
       "    }\n",
       "</style>\n",
       "<table border=\"1\" class=\"dataframe\">\n",
       "  <thead>\n",
       "    <tr style=\"text-align: right;\">\n",
       "      <th></th>\n",
       "      <th>title</th>\n",
       "      <th>link</th>\n",
       "      <th>category</th>\n",
       "      <th>question_title</th>\n",
       "      <th>answer</th>\n",
       "    </tr>\n",
       "  </thead>\n",
       "  <tbody>\n",
       "    <tr>\n",
       "      <th>0</th>\n",
       "      <td>How to get ALL NFTs form a 'collectionId' on S...</td>\n",
       "      <td>/questions/2952/how-to-get-all-nfts-form-a-col...</td>\n",
       "      <td>[iota-network, shimmer]</td>\n",
       "      <td>NaN</td>\n",
       "      <td>NaN</td>\n",
       "    </tr>\n",
       "    <tr>\n",
       "      <th>1</th>\n",
       "      <td>IOTA indexed messages using IOTA address</td>\n",
       "      <td>/questions/2947/iota-indexed-messages-using-io...</td>\n",
       "      <td>[shimmer]</td>\n",
       "      <td>NaN</td>\n",
       "      <td>NaN</td>\n",
       "    </tr>\n",
       "    <tr>\n",
       "      <th>2</th>\n",
       "      <td>How to store data from IoT machine on private ...</td>\n",
       "      <td>/questions/2944/how-to-store-data-from-iot-mac...</td>\n",
       "      <td>[hornet, shimmer, private-network, inx]</td>\n",
       "      <td>NaN</td>\n",
       "      <td>NaN</td>\n",
       "    </tr>\n",
       "    <tr>\n",
       "      <th>3</th>\n",
       "      <td>How to specify a message or tag within a trans...</td>\n",
       "      <td>/questions/2940/how-to-specify-a-message-or-ta...</td>\n",
       "      <td>[transaction, iota-network, microtransaction, ...</td>\n",
       "      <td>NaN</td>\n",
       "      <td>NaN</td>\n",
       "    </tr>\n",
       "    <tr>\n",
       "      <th>4</th>\n",
       "      <td>iota_wallet.common.IotaWalletError while synch...</td>\n",
       "      <td>/questions/2937/iota-wallet-common-iotawallete...</td>\n",
       "      <td>[python, shimmer, wallet.rs]</td>\n",
       "      <td>NaN</td>\n",
       "      <td>NaN</td>\n",
       "    </tr>\n",
       "    <tr>\n",
       "      <th>...</th>\n",
       "      <td>...</td>\n",
       "      <td>...</td>\n",
       "      <td>...</td>\n",
       "      <td>...</td>\n",
       "      <td>...</td>\n",
       "    </tr>\n",
       "    <tr>\n",
       "      <th>3385</th>\n",
       "      <td>NaN</td>\n",
       "      <td>NaN</td>\n",
       "      <td>NaN</td>\n",
       "      <td>Is there a way to sign a transaction?</td>\n",
       "      <td>[This snipped shows how to sign a transaction ...</td>\n",
       "    </tr>\n",
       "    <tr>\n",
       "      <th>3386</th>\n",
       "      <td>NaN</td>\n",
       "      <td>NaN</td>\n",
       "      <td>NaN</td>\n",
       "      <td>How to keep track of an NFT or a collection of...</td>\n",
       "      <td>[]</td>\n",
       "    </tr>\n",
       "    <tr>\n",
       "      <th>3387</th>\n",
       "      <td>NaN</td>\n",
       "      <td>NaN</td>\n",
       "      <td>NaN</td>\n",
       "      <td>How to keep track of an NFT or a collection of...</td>\n",
       "      <td>[The indexer is the easiest way.\\nUse the corr...</td>\n",
       "    </tr>\n",
       "    <tr>\n",
       "      <th>3388</th>\n",
       "      <td>NaN</td>\n",
       "      <td>NaN</td>\n",
       "      <td>NaN</td>\n",
       "      <td>How can I access and modify the state of that ...</td>\n",
       "      <td>[]</td>\n",
       "    </tr>\n",
       "    <tr>\n",
       "      <th>3389</th>\n",
       "      <td>NaN</td>\n",
       "      <td>NaN</td>\n",
       "      <td>NaN</td>\n",
       "      <td>How can I access and modify the state of that ...</td>\n",
       "      <td>[Here the example code that shows how to acces...</td>\n",
       "    </tr>\n",
       "  </tbody>\n",
       "</table>\n",
       "<p>3390 rows × 5 columns</p>\n",
       "</div>"
      ],
      "text/plain": [
       "                                                  title  \\\n",
       "0     How to get ALL NFTs form a 'collectionId' on S...   \n",
       "1              IOTA indexed messages using IOTA address   \n",
       "2     How to store data from IoT machine on private ...   \n",
       "3     How to specify a message or tag within a trans...   \n",
       "4     iota_wallet.common.IotaWalletError while synch...   \n",
       "...                                                 ...   \n",
       "3385                                                NaN   \n",
       "3386                                                NaN   \n",
       "3387                                                NaN   \n",
       "3388                                                NaN   \n",
       "3389                                                NaN   \n",
       "\n",
       "                                                   link  \\\n",
       "0     /questions/2952/how-to-get-all-nfts-form-a-col...   \n",
       "1     /questions/2947/iota-indexed-messages-using-io...   \n",
       "2     /questions/2944/how-to-store-data-from-iot-mac...   \n",
       "3     /questions/2940/how-to-specify-a-message-or-ta...   \n",
       "4     /questions/2937/iota-wallet-common-iotawallete...   \n",
       "...                                                 ...   \n",
       "3385                                                NaN   \n",
       "3386                                                NaN   \n",
       "3387                                                NaN   \n",
       "3388                                                NaN   \n",
       "3389                                                NaN   \n",
       "\n",
       "                                               category  \\\n",
       "0                               [iota-network, shimmer]   \n",
       "1                                             [shimmer]   \n",
       "2               [hornet, shimmer, private-network, inx]   \n",
       "3     [transaction, iota-network, microtransaction, ...   \n",
       "4                          [python, shimmer, wallet.rs]   \n",
       "...                                                 ...   \n",
       "3385                                                NaN   \n",
       "3386                                                NaN   \n",
       "3387                                                NaN   \n",
       "3388                                                NaN   \n",
       "3389                                                NaN   \n",
       "\n",
       "                                         question_title  \\\n",
       "0                                                   NaN   \n",
       "1                                                   NaN   \n",
       "2                                                   NaN   \n",
       "3                                                   NaN   \n",
       "4                                                   NaN   \n",
       "...                                                 ...   \n",
       "3385              Is there a way to sign a transaction?   \n",
       "3386  How to keep track of an NFT or a collection of...   \n",
       "3387  How to keep track of an NFT or a collection of...   \n",
       "3388  How can I access and modify the state of that ...   \n",
       "3389  How can I access and modify the state of that ...   \n",
       "\n",
       "                                                 answer  \n",
       "0                                                   NaN  \n",
       "1                                                   NaN  \n",
       "2                                                   NaN  \n",
       "3                                                   NaN  \n",
       "4                                                   NaN  \n",
       "...                                                 ...  \n",
       "3385  [This snipped shows how to sign a transaction ...  \n",
       "3386                                                 []  \n",
       "3387  [The indexer is the easiest way.\\nUse the corr...  \n",
       "3388                                                 []  \n",
       "3389  [Here the example code that shows how to acces...  \n",
       "\n",
       "[3390 rows x 5 columns]"
      ]
     },
     "execution_count": 2,
     "metadata": {},
     "output_type": "execute_result"
    }
   ],
   "source": [
    "data = pd.read_json(\"iota.json\")\n",
    "print(\"Success\")\n",
    "data"
   ]
  },
  {
   "cell_type": "code",
   "execution_count": 3,
   "metadata": {},
   "outputs": [
    {
     "name": "stdout",
     "output_type": "stream",
     "text": [
      "(520959, 5)\n"
     ]
    }
   ],
   "source": [
    "files = [\"iota.json\", \"economics.json\", \"monero.json\", \"magento.json\", \"quant.json\", \"bitcoin2.json\", \"money.json\", \"ethereum.json\"]\n",
    "#all the classes used to classify\n",
    "classes = []\n",
    "#contains the full dataset\n",
    "# class_col = []\n",
    "class_index = []\n",
    "df_full_np = np.empty((1,data.shape[1]))\n",
    "cnt=0\n",
    "for file in files:\n",
    "    ind = file.find(\".\")\n",
    "    c = file[:ind]\n",
    "    classes.append(c)\n",
    "    df = pd.read_json(file)\n",
    "#     class_col += [c]*df.shape[0]\n",
    "    class_index += [cnt]*df.shape[0]\n",
    "    df_full_np = np.concatenate((df_full_np, df.to_numpy()), axis=0)\n",
    "    cnt+=1\n",
    "#     print(cnt)\n",
    "print(df_full_np.shape)\n",
    "\n",
    "\n",
    "\n",
    "#all the classes used to classify\n",
    "# classes = []\n",
    "\n",
    "# #contains the full dataset\n",
    "# df_full = ps.DataFrame()\n",
    "# class_index = 0\n",
    "# for file in files:\n",
    "#     ind = file.find(\".\")\n",
    "#     c = file[:ind]\n",
    "#     classes.append(c)\n",
    "#     df = ps.read_json(file)\n",
    "#     class_col = [c]*df.shape[0]\n",
    "#     class_index_col = [class_index]*df.shape[0]\n",
    "#     df['class'] = class_col\n",
    "#     df['class_index'] = class_index_col\n",
    "#     df=df.drop(['_corrupt_record'], axis=1)\n",
    "#     df_full = df_full.append(df)\n",
    "#     class_index += 1\n",
    "\n",
    "\n",
    "# df_full.shape"
   ]
  },
  {
   "cell_type": "code",
   "execution_count": null,
   "metadata": {},
   "outputs": [],
   "source": [
    "# categories_dict = collections.defaultdict(int)\n",
    "# categories_list = df_full[df_full.category.notnull()]['category'].tolist()\n",
    "# for categories in categories_list:\n",
    "#     for c in categories:\n",
    "#         categories_dict[c]+=1\n",
    "# print(categories_dict)"
   ]
  },
  {
   "cell_type": "code",
   "execution_count": null,
   "metadata": {},
   "outputs": [],
   "source": [
    "# sorted_categories = dict(sorted(categories_dict.items(), key=lambda item: -item[1]))\n",
    "# top_k = 10\n",
    "# categories = ps.DataFrame({'category': list(sorted_categories.keys())[:top_k], 'occurrences': list(sorted_categories.values())[:top_k]})\n",
    "# ax = categories.plot(kind='barh', x='category', y='occurrences')"
   ]
  },
  {
   "cell_type": "code",
   "execution_count": 4,
   "metadata": {},
   "outputs": [
    {
     "data": {
      "text/plain": [
       "(520958, 6)"
      ]
     },
     "execution_count": 4,
     "metadata": {},
     "output_type": "execute_result"
    }
   ],
   "source": [
    "#title and question_title datasets\n",
    "df_full_pd = pd.DataFrame(df_full_np[1:,:], columns = data.columns.values.tolist())\n",
    "df_full_pd['class_index']=class_index\n",
    "df_full_pd.shape"
   ]
  },
  {
   "cell_type": "code",
   "execution_count": 5,
   "metadata": {},
   "outputs": [],
   "source": [
    "df_t_pd = df_full_pd[df_full_pd.title.notnull()][['title','class_index']]\n",
    "df_t_np = df_t_pd.to_numpy()\n",
    "df_qt_pd = df_full_pd[df_full_pd.question_title.notnull()][['question_title','answer']]\n",
    "df_qt_np = df_qt_pd.to_numpy()\n",
    "df_qt_np = [row for row in df_qt_np if len(row[1])>0]\n",
    "df_qt_np = np.array(df_qt_np)\n",
    "df_qt_pd = pd.DataFrame(df_qt_np, columns=['question_title','answer'])"
   ]
  },
  {
   "cell_type": "code",
   "execution_count": 6,
   "metadata": {},
   "outputs": [
    {
     "name": "stdout",
     "output_type": "stream",
     "text": [
      "size of embedding data: 88697 \n",
      "size of classification data: 88697\n"
     ]
    }
   ],
   "source": [
    "#full dataset\n",
    "random.shuffle(df_t_np)\n",
    "n = len(df_t_np)\n",
    "\n",
    "embedding_data = df_t_np[:int(0.5*n)]\n",
    "classification_data = df_t_np[int(0.5*n):]\n",
    "print(\"size of embedding data: {} \\nsize of classification data: {}\".format(len(embedding_data), len(classification_data)))"
   ]
  },
  {
   "cell_type": "code",
   "execution_count": 7,
   "metadata": {},
   "outputs": [
    {
     "name": "stdout",
     "output_type": "stream",
     "text": [
      "+--------------------+\n",
      "|            sentence|\n",
      "+--------------------+\n",
      "|[How, to, get, AL...|\n",
      "|[IOTA, indexed, m...|\n",
      "|[How, to, get, AL...|\n",
      "|[How, to, specify...|\n",
      "|[How, to, specify...|\n",
      "|[IOTA, indexed, m...|\n",
      "|[IOTA, indexed, m...|\n",
      "|[IOTA, indexed, m...|\n",
      "|[IOTA, indexed, m...|\n",
      "|[How, to, do, a, ...|\n",
      "|[Tips, selection,...|\n",
      "|[How, do, I, get,...|\n",
      "|[Getting, error, ...|\n",
      "|[How, to, store, ...|\n",
      "|[Smart, contract,...|\n",
      "|[How, to, keep, t...|\n",
      "|[How, do, I, pass...|\n",
      "|[Iota, explorer, ...|\n",
      "|[Getting, error, ...|\n",
      "|[IOTA, learning, ...|\n",
      "+--------------------+\n",
      "only showing top 20 rows\n",
      "\n"
     ]
    }
   ],
   "source": [
    "words = []\n",
    "for title, class_index in embedding_data:\n",
    "    words.append((title.split(\" \"), ))\n",
    "words = spark.createDataFrame(words, [\"sentence\"])\n",
    "words.show()"
   ]
  },
  {
   "cell_type": "code",
   "execution_count": 8,
   "metadata": {},
   "outputs": [
    {
     "name": "stderr",
     "output_type": "stream",
     "text": [
      "d:\\anaconda\\envs\\tf-gpu\\lib\\site-packages\\pyspark\\sql\\context.py:125: FutureWarning: Deprecated in 3.0.0. Use SparkSession.builder.getOrCreate() instead.\n",
      "  warnings.warn(\n"
     ]
    },
    {
     "name": "stdout",
     "output_type": "stream",
     "text": [
      "+--------------------+--------------------+\n",
      "|                word|              vector|\n",
      "+--------------------+--------------------+\n",
      "|       specifically,|[-0.4890068471431...|\n",
      "|          \"Timestamp|[-0.0986907184123...|\n",
      "|              Talent|[-0.1907614767551...|\n",
      "|     \"new-Keynesian\"|[-0.1346144527196...|\n",
      "|   government/public|[0.31715291738510...|\n",
      "|          soft-forks|[-0.0919339433312...|\n",
      "|              (GLMM)|[0.22814911603927...|\n",
      "|          additivity|[0.12582439184188...|\n",
      "|      Pareto-Optimal|[-0.1132052689790...|\n",
      "|           MIgartion|[0.01588429324328...|\n",
      "|             serious|[-0.3577447533607...|\n",
      "|              comply|[0.56202989816665...|\n",
      "|              breaks|[-0.2461587339639...|\n",
      "|                 dns|[-0.4756813943386...|\n",
      "|           forgotten|[0.24789668619632...|\n",
      "|           altruism\"|[-0.0792674645781...|\n",
      "|855996c9444827112...|[-0.3040251731872...|\n",
      "|            precious|[-0.4048662185668...|\n",
      "|            activley|[0.08287889510393...|\n",
      "|                   E|[-0.5235833525657...|\n",
      "+--------------------+--------------------+\n",
      "only showing top 20 rows\n",
      "\n",
      "Number of vectors acquired 42485\n"
     ]
    }
   ],
   "source": [
    "w2v = Word2Vec(vectorSize=5, seed=42, inputCol='sentence', outputCol='model', maxIter=10, minCount=0)\n",
    "w2vModel = w2v.fit(words)\n",
    "w2vModel.getVectors().show()\n",
    "w2vModel.save(\"w2v.model\")\n",
    "print(\"Number of vectors acquired {}\".format(w2vModel.getVectors().count()))"
   ]
  },
  {
   "cell_type": "code",
   "execution_count": 9,
   "metadata": {},
   "outputs": [],
   "source": [
    "#use embedding on classification data\n",
    "words = []\n",
    "for title, class_index in classification_data:\n",
    "    words.append((title.split(\" \"), ))\n",
    "transformed_rows = spark.createDataFrame(words, [\"sentence\"])\n",
    "w2v_checkpoint = \"w2v.model\"\n",
    "w2vModel = Word2VecModel.load(w2v_checkpoint)\n",
    "embeddings = w2vModel.transform(transformed_rows)"
   ]
  },
  {
   "cell_type": "code",
   "execution_count": 10,
   "metadata": {},
   "outputs": [
    {
     "name": "stdout",
     "output_type": "stream",
     "text": [
      "+--------------------+--------------------+\n",
      "|            sentence|               model|\n",
      "+--------------------+--------------------+\n",
      "|[Do, free-trade, ...|[-0.1578761285377...|\n",
      "|[Calculating, nom...|[-0.6280010342597...|\n",
      "|[What, is, the, n...|[-0.4166705020599...|\n",
      "|[How, to, get, th...|[0.06733547756448...|\n",
      "|[Software, wallet...|[-0.4243574813008...|\n",
      "|[What, is, the, P...|[-0.2742775266661...|\n",
      "|[What, does, the,...|[-0.1954665062949...|\n",
      "|[Where, is, sales...|[-0.1593263042159...|\n",
      "|[FF, 6-month, lag...|[-0.1531089310135...|\n",
      "|[Lost, Exchange, ...|[-0.6478425761063...|\n",
      "|[Is, a, high, bor...|[-0.4757440624137...|\n",
      "|[Is, it, possible...|[-0.2427926880235...|\n",
      "|[How, can, an, ou...|[-0.1077767002650...|\n",
      "|[What's, volatili...|[-0.2821362813313...|\n",
      "|[how, to, get, th...|[0.07040247675918...|\n",
      "|[Which, two, stri...|[-0.0085369046311...|\n",
      "|[How, do, I, cons...|[-0.1680675111711...|\n",
      "|[Trying, to, unde...|[-0.2585114131079...|\n",
      "|[bitcoin, fork, g...|[-0.4208879023790...|\n",
      "|[MinerGate, minin...|[-0.2494424199685...|\n",
      "+--------------------+--------------------+\n",
      "only showing top 20 rows\n",
      "\n"
     ]
    }
   ],
   "source": [
    "embeddings.show()"
   ]
  },
  {
   "cell_type": "code",
   "execution_count": 11,
   "metadata": {},
   "outputs": [],
   "source": [
    "lines = []\n",
    "with open(\"multiclass_classification_data.txt\", \"w\") as f:\n",
    "    ind = -1\n",
    "    for row in embeddings.collect():\n",
    "        ind += 1\n",
    "        # print(ind)\n",
    "        text, vector = row\n",
    "        lines.append(f\"{classification_data[ind][1]} 1:{vector[0]} 2:{vector[1]} 3:{vector[2]} 4:{vector[3]} 5:{vector[4]}\\n\")\n",
    "        # lines.append(\"1\")\n",
    "    f.writelines(lines)"
   ]
  },
  {
   "cell_type": "code",
   "execution_count": 22,
   "metadata": {},
   "outputs": [],
   "source": [
    "\n",
    "def evaluate(checkpoint, test, model_type):\n",
    "    if model_type==\"lr\":\n",
    "        cls_model = LogisticRegressionModel.load(checkpoint)\n",
    "    elif model_type==\"mlp\":\n",
    "        cls_model = MultilayerPerceptronClassificationModel.load(checkpoint)\n",
    "    results = cls_model.transform(test)\\\n",
    "        .select(\"prediction\", \"label\")\n",
    "    evaluator = MulticlassClassificationEvaluator(predictionCol='prediction')\n",
    "    print(f\"f1 score: {evaluator.evaluate(results)}\")\n",
    "    evaluator.setMetricName(\"accuracy\")\n",
    "    print(f\"Accuracy: {evaluator.evaluate(results)}\")\n",
    "    \n",
    "def predict(checkpoint, w2v_checkpoint, model_type):\n",
    "    if model_type==\"lr\":\n",
    "        cls_model = LogisticRegressionModel.load(checkpoint)\n",
    "    elif model_type==\"mlp\":\n",
    "        cls_model = MultilayerPerceptronClassificationModel.load(checkpoint)\n",
    "    w2vModel = Word2VecModel.load(w2v_checkpoint)\n",
    "    title = input(\"Give 1 question here: \")\n",
    "    df = spark.createDataFrame([(title.split(\" \"), )], ['sentence'])\n",
    "    title_embedding = w2vModel.transform(df)\n",
    "    text, vector = title_embedding.collect()[0]\n",
    "\n",
    "    with open(\"input.txt\", \"w\") as f:\n",
    "        f.write(f\"10 1:{vector[0]} 2:{vector[1]} 3:{vector[2]} 4:{vector[3]} 5:{vector[4]}\")\n",
    "    inputDF = spark \\\n",
    "            .read \\\n",
    "            .format(\"libsvm\") \\\n",
    "            .load(\"input.txt\")\n",
    "    prediction = cls_model.transform(inputDF)\n",
    "    predictedValue = prediction.select(\"prediction\").collect()[0]\n",
    "    # print(predictedValue)\n",
    "    print(f\"The predicted class is {classes[int(predictedValue[0])]}\")"
   ]
  },
  {
   "cell_type": "code",
   "execution_count": 13,
   "metadata": {},
   "outputs": [],
   "source": [
    "data = spark \\\n",
    "    .read \\\n",
    "    .format(\"libsvm\") \\\n",
    "    .load(\"multiclass_classification_data.txt\")\n",
    "train, test = data.randomSplit([0.8, 0.2], seed=12345)"
   ]
  },
  {
   "cell_type": "code",
   "execution_count": 15,
   "metadata": {},
   "outputs": [],
   "source": [
    "lr = LogisticRegression(maxIter=100, regParam=0.3, elasticNetParam=0.8)\n",
    "lrModel = lr.fit(train)\n",
    "lrModel.save(\"lrm.model\")"
   ]
  },
  {
   "cell_type": "code",
   "execution_count": 16,
   "metadata": {},
   "outputs": [
    {
     "name": "stdout",
     "output_type": "stream",
     "text": [
      "f1 score: 0.20018204612875257\n",
      "Accuracy: 0.3071512309495897\n"
     ]
    }
   ],
   "source": [
    "# Logistic regression model\n",
    "checkpoint = \"lrm.model\"\n",
    "evaluate(checkpoint, test, \"lr\")"
   ]
  },
  {
   "cell_type": "code",
   "execution_count": null,
   "metadata": {},
   "outputs": [],
   "source": [
    "checkpoint = \"lrm.model\"\n",
    "w2v_checkpoint = \"w2v.model\"\n",
    "predict(checkpoint, w2v_checkpoint, \"lr\")"
   ]
  },
  {
   "cell_type": "code",
   "execution_count": null,
   "metadata": {},
   "outputs": [],
   "source": [
    "from pyspark.ml.classification import RandomForestClassifier\n",
    "from pyspark.ml.feature import IndexToString, StringIndexer, VectorIndexer\n",
    "# Index labels, adding metadata to the label column.\n",
    "# Fit on whole dataset to include all labels in index.\n",
    "labelIndexer = StringIndexer(inputCol=\"label\", outputCol=\"indexedLabel\").fit(data)\n",
    "\n",
    "# Automatically identify categorical features, and index them.\n",
    "# Set maxCategories so features with > 4 distinct values are treated as continuous.\n",
    "featureIndexer =\\\n",
    "    VectorIndexer(inputCol=\"features\", outputCol=\"indexedFeatures\", maxCategories=4).fit(data)\n",
    "\n",
    "rf = RandomForestClassifier(labelCol=\"indexedLabel\", featuresCol=\"indexedFeatures\", numTrees=10)\n",
    "\n",
    "labelConverter = IndexToString(inputCol=\"prediction\", outputCol=\"predictedLabel\",\n",
    "                               labels=labelIndexer.labels)\n",
    "\n",
    "pipeline = Pipeline(stages=[labelIndexer, featureIndexer, rf, labelConverter])\n",
    "\n",
    "rfModel = pipeline.fit(train)\n",
    "\n",
    "predictions = rfModel.transform(test)\n",
    "\n",
    "predictions.select(\"predictedLabel\", \"label\", \"features\").show(5)"
   ]
  },
  {
   "cell_type": "code",
   "execution_count": 17,
   "metadata": {},
   "outputs": [],
   "source": [
    "layers = [5, 10, 10, len(classes)]\n",
    "trainer = MultilayerPerceptronClassifier(maxIter=100, layers=layers, blockSize=128, seed=1234)\n",
    "MLPmodel = trainer.fit(train)\n",
    "MLPmodel.save(\"mlp.model\")"
   ]
  },
  {
   "cell_type": "code",
   "execution_count": 18,
   "metadata": {},
   "outputs": [
    {
     "name": "stdout",
     "output_type": "stream",
     "text": [
      "f1 score: 0.6035520920637067\n",
      "Accuracy: 0.6277563780494613\n"
     ]
    }
   ],
   "source": [
    "# MLP model\n",
    "checkpoint = \"mlp.model\"\n",
    "evaluate(checkpoint, test, \"mlp\")"
   ]
  },
  {
   "cell_type": "code",
   "execution_count": 27,
   "metadata": {},
   "outputs": [
    {
     "name": "stdout",
     "output_type": "stream",
     "text": [
      "The predicted class is money\n"
     ]
    }
   ],
   "source": [
    "checkpoint = \"mlp.model\"\n",
    "w2v_checkpoint = \"w2v.model\"\n",
    "predict(checkpoint, w2v_checkpoint, \"mlp\")"
   ]
  },
  {
   "cell_type": "code",
   "execution_count": 28,
   "metadata": {},
   "outputs": [],
   "source": [
    "with open(\"kmeans_data.txt\", \"w\") as f:\n",
    "    cnt = 0\n",
    "    with open(\"multiclass_classification_data.txt\", \"r\") as g:\n",
    "        lines = g.readlines()\n",
    "    n = len(lines)\n",
    "    lines = [str(cnt)+' '+line[line.find(' ')+1:] for line, cnt in zip(lines, list(range(n)))]\n",
    "    f.writelines(lines)"
   ]
  },
  {
   "cell_type": "code",
   "execution_count": 29,
   "metadata": {},
   "outputs": [
    {
     "name": "stdout",
     "output_type": "stream",
     "text": [
      "+-----+--------------------+\n",
      "|label|            features|\n",
      "+-----+--------------------+\n",
      "|  0.0|[0.45642445201126...|\n",
      "|  1.0|[0.97453407838173...|\n",
      "+-----+--------------------+\n",
      "only showing top 2 rows\n",
      "\n",
      "Silhouette with squared euclidean distance = 0.6264626050708022\n",
      "Cluster Centers: \n",
      "[-0.04477059 -0.37379211]\n",
      "[-0.77380696  0.13327633]\n",
      "[0.30837092 0.24964219]\n"
     ]
    }
   ],
   "source": [
    "from pyspark.ml.clustering import KMeans\n",
    "from pyspark.ml.evaluation import ClusteringEvaluator\n",
    "from pyspark.ml.feature import PCA\n",
    "# Loads data.\n",
    "dataset = spark.read.format(\"libsvm\").load(\"kmeans_data.txt\")\n",
    "\n",
    "# PCA\n",
    "pca = PCA(k=2, inputCol='features', outputCol='pca_features')\n",
    "dataset = pca.fit(dataset).transform(dataset)\n",
    "dataset = dataset.drop('features')\n",
    "dataset = dataset.withColumnRenamed('pca_features','features')\n",
    "dataset.show(2)\n",
    "\n",
    "# Trains a k-means model.\n",
    "kmeans = KMeans().setK(3).setSeed(1)\n",
    "model = kmeans.fit(dataset)\n",
    "\n",
    "# Make predictions\n",
    "predictions = model.transform(dataset)\n",
    "\n",
    "# Evaluate clustering by computing Silhouette score\n",
    "evaluator = ClusteringEvaluator()\n",
    "\n",
    "silhouette = evaluator.evaluate(predictions)\n",
    "print(\"Silhouette with squared euclidean distance = \" + str(silhouette))\n",
    "\n",
    "# Shows the result.\n",
    "centers = model.clusterCenters()\n",
    "print(\"Cluster Centers: \")\n",
    "for center in centers:\n",
    "    print(center)"
   ]
  },
  {
   "cell_type": "code",
   "execution_count": 30,
   "metadata": {},
   "outputs": [
    {
     "data": {
      "text/plain": [
       "0            [0.4564244520112661, -0.2826647005688672]\n",
       "2            [0.16700070434867056, -0.582136601345122]\n",
       "4           [0.08748612750960244, -0.6853911916544203]\n",
       "6           [-0.1869482723934604, -0.2417839539233023]\n",
       "7          [0.020869207893849134, -0.4509973597737065]\n",
       "                             ...                      \n",
       "88683      [0.15363067485454357, -0.14556711156677768]\n",
       "88685       [-0.1438640677688709, -0.5212495241853535]\n",
       "88691     [-0.48311462770047425, -0.40929152661209045]\n",
       "88695       [0.03511096905174274, -0.5222483846331073]\n",
       "88696    [-0.031231065791481466, -0.28784155193632893]\n",
       "Name: features, Length: 47293, dtype: object"
      ]
     },
     "execution_count": 30,
     "metadata": {},
     "output_type": "execute_result"
    }
   ],
   "source": [
    "from pyspark.ml.functions import vector_to_array\n",
    "predictions = predictions.withColumn('features', vector_to_array('features'))\n",
    "pred_pd = predictions.toPandas()\n",
    "label_0 = pred_pd[pred_pd['prediction'] == 0]['features']\n",
    "label_1 = pred_pd[pred_pd['prediction'] == 1]['features']\n",
    "label_2 = pred_pd[pred_pd['prediction'] == 2]['features']\n",
    "label_0"
   ]
  },
  {
   "cell_type": "code",
   "execution_count": 31,
   "metadata": {},
   "outputs": [
    {
     "data": {
      "text/plain": [
       "(47293, 2)"
      ]
     },
     "execution_count": 31,
     "metadata": {},
     "output_type": "execute_result"
    }
   ],
   "source": [
    "label_0 = np.array(label_0.to_numpy().tolist())\n",
    "label_1 = np.array(label_1.to_numpy().tolist())\n",
    "label_2 = np.array(label_2.to_numpy().tolist())\n",
    "label_0.shape"
   ]
  },
  {
   "cell_type": "code",
   "execution_count": 32,
   "metadata": {},
   "outputs": [
    {
     "data": {
      "image/png": "[encoded data removed]",
      "text/plain": [
       "<Figure size 640x480 with 1 Axes>"
      ]
     },
     "metadata": {},
     "output_type": "display_data"
    }
   ],
   "source": [
    "import matplotlib.pyplot as plt\n",
    "plt.scatter(label_0[:, 0], label_0[:, 1], color='red')\n",
    "plt.scatter(label_1[:, 0], label_1[:, 1], color='blue')\n",
    "plt.scatter(label_2[:, 0], label_2[:, 1], color='green')\n",
    "plt.show()\n"
   ]
  },
  {
   "cell_type": "code",
   "execution_count": null,
   "metadata": {},
   "outputs": [],
   "source": [
    "# nb = NaiveBayes()\n",
    "# nbModel = nb.fit(train)\n",
    "# nbModel.save(\"nbm.model\")"
   ]
  },
  {
   "cell_type": "code",
   "execution_count": null,
   "metadata": {},
   "outputs": [],
   "source": [
    "#QABert\n",
    "# from sparknlp import MultiDocumentAssembler\n",
    "# document_assembler = MultiDocumentAssembler().setInputCols([\"question\", \"context\"]).setOutputCols([\"document_question\", \"document_context\"])\n",
    "\n",
    "# spanClassifier = BertForQuestionAnswering.pretrained(\"bert_qa_bert_large_cased_whole_word_masking_finetuned_squad\",\"en\") \\\n",
    "# .setInputCols([\"document_question\", \"document_context\"]) \\\n",
    "# .setOutputCol(\"answer\") \\\n",
    "# .setCaseSensitive(True)\n",
    "\n",
    "# pipeline = Pipeline().setStages([\n",
    "# document_assembler,\n",
    "# spanClassifier\n",
    "# ])\n",
    "\n",
    "# example = spark.createDataFrame([[\"What's my name?\", \"My name is Clara and I live in Berkeley.\"]]).toDF(\"question\", \"context\")\n",
    "\n",
    "# result = pipeline.fit(example).transform(example)"
   ]
  },
  {
   "cell_type": "code",
   "execution_count": null,
   "metadata": {},
   "outputs": [],
   "source": [
    "#Word2Vec -> KMeans\n",
    "#keyword, question type, question, answer length"
   ]
  }
 ],
 "metadata": {
  "kernelspec": {
   "display_name": "tf-gpu",
   "language": "python",
   "name": "python3"
  },
  "language_info": {
   "codemirror_mode": {
    "name": "ipython",
    "version": 3
   },
   "file_extension": ".py",
   "mimetype": "text/x-python",
   "name": "python",
   "nbconvert_exporter": "python",
   "pygments_lexer": "ipython3",
   "version": "3.9.13"
  },
  "orig_nbformat": 4
 },
 "nbformat": 4,
 "nbformat_minor": 2
}
